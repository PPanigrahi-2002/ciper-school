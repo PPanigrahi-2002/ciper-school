{
 "cells": [
  {
   "cell_type": "code",
   "execution_count": 8,
   "metadata": {},
   "outputs": [],
   "source": [
    "#Data Manipulation and Analysis with NumPy:\n",
    "\n",
    "#Definition: NumPy is a fundamental package for scientific computing with Python. It provides support for arrays, matrices, and a large collection of mathematical functions to operate on these data structures.\n",
    "#NumPy arrays are more efficient and provide better performance for numerical operations compared to Python's built-in lists\n",
    "\n",
    "#Use Case in Real Life: NumPy can be used in various scientific computing scenarios, such as statistical analysis, signal processing, and image processing.\n",
    "\n",
    "# To install a library\n",
    "# pip install name(library)\n",
    "# # To import a library\n",
    "# import name(library)\n"
   ]
  },
  {
   "cell_type": "code",
   "execution_count": 9,
   "metadata": {},
   "outputs": [
    {
     "name": "stdout",
     "output_type": "stream",
     "text": [
      "[1 2 3 4 5 6]\n",
      "[[10 20 30]\n",
      " [70 80 90]]\n"
     ]
    }
   ],
   "source": [
    "# Creating a NumPy  Array from a List\n",
    "# pip install numpy\n",
    "import numpy as np      # using as(alias) keyword to rename the numpy as np\n",
    "arr1 = np.array([1,2,3,4,5,6])\n",
    "print(arr1)\n",
    "arr2 = np.array([[10,20,30], [70,80,90]])\n",
    "print(arr2)"
   ]
  },
  {
   "cell_type": "code",
   "execution_count": 17,
   "metadata": {},
   "outputs": [
    {
     "name": "stdout",
     "output_type": "stream",
     "text": [
      "<class 'ZeroDivisionError'>\n"
     ]
    }
   ],
   "source": [
    "#CREATING ARRAY WITH FUNCTIONS\n",
    "# creating array of Zeroes\n",
    "arr1 = np.zeros((3,4))      #Assigning the dimensions\n",
    "print(ZeroDivisionError)\n"
   ]
  },
  {
   "cell_type": "code",
   "execution_count": 30,
   "metadata": {},
   "outputs": [
    {
     "name": "stdout",
     "output_type": "stream",
     "text": [
      "[10 12 14 16 18]\n",
      "[[0.21620684 0.27224953 0.3883899  0.14358246]\n",
      " [0.88388644 0.19174382 0.98598377 0.45191031]\n",
      " [0.51118166 0.74399962 0.57408789 0.25348436]]\n",
      "[3 4 5 6 7]\n",
      "[ 2  4  6  8 10]\n",
      "[-1  0  1  2  3]\n",
      "[0.5 1.  1.5 2.  2.5]\n"
     ]
    }
   ],
   "source": [
    "# creating array of Ones\n",
    "\n",
    "\n",
    "# Arranging an array within a given range of values\n",
    "arr1 = np.arange(10, 20, 2)\n",
    "print(arr1)\n",
    "\n",
    "# creating array with random values\n",
    "arr1 = np.random.rand(3,4)      \n",
    "print(arr1)\n",
    "\n",
    "#BASIC ARRAY OPERATIONS - ELEMENT-WISE OPERATIONS  \n",
    "\n",
    "arr = np.array([1,2,3,4,5])\n",
    "\n",
    "# element-wise addition\n",
    "print(arr + 2)\n",
    "\n",
    "#element-wise multiplication\n",
    "print(arr*2)\n",
    "\n",
    "#element-wise substraction\n",
    "print(arr - 2)\n",
    "\n",
    "#element-wise division\n",
    "print(arr / 2)\n"
   ]
  },
  {
   "cell_type": "code",
   "execution_count": 32,
   "metadata": {},
   "outputs": [
    {
     "name": "stdout",
     "output_type": "stream",
     "text": [
      "[1.         1.41421356 1.73205081 2.         2.23606798]\n",
      "[  2.71828183   7.3890561   20.08553692  54.59815003 148.4131591 ]\n",
      "[0.         0.69314718 1.09861229 1.38629436 1.60943791]\n",
      "[ 0.84147098  0.90929743  0.14112001 -0.7568025  -0.95892427]\n",
      "1\n",
      "5\n",
      "[2 3 4]\n",
      "[1 2 3]\n",
      "[3 4 5]\n",
      "[4 5]\n",
      "[1 3 5]\n"
     ]
    },
    {
     "ename": "TypeError",
     "evalue": "Field elements must be 2- or 3-tuples, got '4'",
     "output_type": "error",
     "traceback": [
      "\u001b[1;31m---------------------------------------------------------------------------\u001b[0m",
      "\u001b[1;31mTypeError\u001b[0m                                 Traceback (most recent call last)",
      "Cell \u001b[1;32mIn[32], line 41\u001b[0m\n\u001b[0;32m     37\u001b[0m \u001b[38;5;28mprint\u001b[39m(arr[indices])\n\u001b[0;32m     39\u001b[0m \u001b[38;5;66;03m#RESHAPING AND TRANSPOSING ARRAYS\u001b[39;00m\n\u001b[1;32m---> 41\u001b[0m arr \u001b[38;5;241m=\u001b[39m \u001b[43mnp\u001b[49m\u001b[38;5;241;43m.\u001b[39;49m\u001b[43marray\u001b[49m\u001b[43m(\u001b[49m\u001b[43m[\u001b[49m\u001b[38;5;241;43m1\u001b[39;49m\u001b[43m,\u001b[49m\u001b[38;5;241;43m2\u001b[39;49m\u001b[43m,\u001b[49m\u001b[38;5;241;43m3\u001b[39;49m\u001b[43m]\u001b[49m\u001b[43m \u001b[49m\u001b[43m,\u001b[49m\u001b[43m \u001b[49m\u001b[43m[\u001b[49m\u001b[38;5;241;43m4\u001b[39;49m\u001b[43m,\u001b[49m\u001b[38;5;241;43m5\u001b[39;49m\u001b[43m,\u001b[49m\u001b[38;5;241;43m6\u001b[39;49m\u001b[43m]\u001b[49m\u001b[43m)\u001b[49m\n\u001b[0;32m     43\u001b[0m \u001b[38;5;66;03m# Reshaping                        #Note : Total number of elements should be constant\u001b[39;00m\n\u001b[0;32m     44\u001b[0m reshaped \u001b[38;5;241m=\u001b[39m arr\u001b[38;5;241m.\u001b[39mreshape((\u001b[38;5;241m3\u001b[39m,\u001b[38;5;241m2\u001b[39m))\n",
      "\u001b[1;31mTypeError\u001b[0m: Field elements must be 2- or 3-tuples, got '4'"
     ]
    }
   ],
   "source": [
    "#BASIC ARRAY OPERATIONS - MATHEMATICAL FUNCTIONS \n",
    "\n",
    "arr = np.array([1,2,3,4,5])\n",
    "\n",
    "# square root\n",
    "print(np.sqrt(arr))\n",
    "\n",
    "# Exponential\n",
    "print(np.exp(arr))\n",
    "\n",
    "# Logarithm\n",
    "print(np.log(arr))\n",
    "\n",
    "# Sine\n",
    "print(np.sin(arr))\n",
    "\n",
    "\n",
    "#INDEXING AND SLICING\n",
    "\n",
    "arr = np.array([1,2,3,4,5])\n",
    "# Indexing\n",
    "print(arr[0]) # first element\n",
    "print(arr[-1]) # Last element\n",
    "\n",
    "# Slicing\n",
    "print(arr[1:4]) # Elements from index 1 to 3\n",
    "print(arr[:3]) # First 3 elements\n",
    "print(arr[2:]) # Elements from the index number 2 to the last index\n",
    "\n",
    "# Advanced indexing\n",
    "\n",
    "# Boolean indexing\n",
    "print(arr[arr > 3])   \n",
    "\n",
    "# Fancy indexing\n",
    "indices = [0,2,4]\n",
    "print(arr[indices])\n",
    "\n",
    "#RESHAPING AND TRANSPOSING ARRAYS\n",
    "\n",
    "arr = np.array([1,2,3] , [4,5,6])\n",
    "\n",
    "# Reshaping                        #Note : Total number of elements should be constant\n",
    "reshaped = arr.reshape((3,2))\n",
    "print(reshaped) \n",
    "\n",
    "# Transposing = prints the transpose of the array\n",
    "transposed = arr.t\n",
    "print(transposed)\n",
    "\n",
    "#AGGREGATION FUNCTIONS - SUM , MEAN , MIN , MAX\n",
    "\n",
    "arr = np.array([1,2,3] , [4,5,6])\n",
    "\n",
    "# sum of all the elements\n",
    "print(np.sum(arr))\n",
    "\n",
    "# sum along columns\n",
    "print(np.sum(arr, axis=0))\n",
    "\n",
    "# sum along rows\n",
    "print(np.sum(arr, axis=1))\n",
    "\n",
    "# Mean of all elements\n",
    "print(np.mean(arr))\n",
    "\n",
    "# Minimum Value\n",
    "print(np.min(arr))\n",
    "\n",
    "# Maximum Value\n",
    "print(np.max(arr))\n",
    "\n",
    "# Index of the Minimum Value\n",
    "print(np.argmin(arr))\n",
    "\n",
    "# Index of the Maximum Value\n",
    "print(np.argmax(arr))"
   ]
  }
 ],
 "metadata": {
  "language_info": {
   "name": "python"
  }
 },
 "nbformat": 4,
 "nbformat_minor": 2
}
