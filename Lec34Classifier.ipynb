{
  "cells": [
    {
      "cell_type": "markdown",
      "metadata": {
        "id": "x11CA7ERrqih"
      },
      "source": [
        "# **Import Libraries**"
      ]
    },
    {
      "cell_type": "code",
      "execution_count": 1,
      "metadata": {},
      "outputs": [
        {
          "name": "stdout",
          "output_type": "stream",
          "text": [
            "Collecting wandb[keras]\n",
            "  Obtaining dependency information for wandb[keras] from https://files.pythonhosted.org/packages/1e/df/c9c1361ba252907d72a493f8a09dd22a62a3f0b2660bec11a27f8ab463fd/wandb-0.17.5-py3-none-win_amd64.whl.metadata\n",
            "  Using cached wandb-0.17.5-py3-none-win_amd64.whl.metadata (10 kB)\n",
            "Requirement already satisfied: click!=8.0.0,>=7.1 in c:\\users\\priya\\appdata\\local\\programs\\python\\python312\\lib\\site-packages (from wandb[keras]) (8.1.7)\n",
            "Collecting docker-pycreds>=0.4.0 (from wandb[keras])\n",
            "  Obtaining dependency information for docker-pycreds>=0.4.0 from https://files.pythonhosted.org/packages/f5/e8/f6bd1eee09314e7e6dee49cbe2c5e22314ccdb38db16c9fc72d2fa80d054/docker_pycreds-0.4.0-py2.py3-none-any.whl.metadata\n",
            "  Using cached docker_pycreds-0.4.0-py2.py3-none-any.whl.metadata (1.8 kB)\n",
            "Requirement already satisfied: gitpython!=3.1.29,>=1.0.0 in c:\\users\\priya\\appdata\\local\\programs\\python\\python312\\lib\\site-packages (from wandb[keras]) (3.1.43)\n",
            "Requirement already satisfied: platformdirs in c:\\users\\priya\\appdata\\local\\programs\\python\\python312\\lib\\site-packages (from wandb[keras]) (4.1.0)\n",
            "Requirement already satisfied: protobuf!=4.21.0,<6,>=3.19.0 in c:\\users\\priya\\appdata\\local\\programs\\python\\python312\\lib\\site-packages (from wandb[keras]) (4.25.3)\n",
            "Requirement already satisfied: psutil>=5.0.0 in c:\\users\\priya\\appdata\\local\\programs\\python\\python312\\lib\\site-packages (from wandb[keras]) (5.9.7)\n",
            "Requirement already satisfied: pyyaml in c:\\users\\priya\\appdata\\local\\programs\\python\\python312\\lib\\site-packages (from wandb[keras]) (6.0.1)\n",
            "Requirement already satisfied: requests<3,>=2.0.0 in c:\\users\\priya\\appdata\\local\\programs\\python\\python312\\lib\\site-packages (from wandb[keras]) (2.31.0)\n",
            "Collecting sentry-sdk>=1.0.0 (from wandb[keras])\n",
            "  Obtaining dependency information for sentry-sdk>=1.0.0 from https://files.pythonhosted.org/packages/4f/9e/9298785949269c8930e1fd3707b960da6e1a95a2442b747b8f8cca4578cb/sentry_sdk-2.10.0-py2.py3-none-any.whl.metadata\n",
            "  Using cached sentry_sdk-2.10.0-py2.py3-none-any.whl.metadata (14 kB)\n",
            "Collecting setproctitle (from wandb[keras])\n",
            "  Obtaining dependency information for setproctitle from https://files.pythonhosted.org/packages/90/e8/ece468e93e99d3b2826e9649f6d03e80f071d451e20c742f201f77d1bea1/setproctitle-1.3.3-cp312-cp312-win_amd64.whl.metadata\n",
            "  Using cached setproctitle-1.3.3-cp312-cp312-win_amd64.whl.metadata (10 kB)\n",
            "Requirement already satisfied: setuptools in c:\\users\\priya\\appdata\\local\\programs\\python\\python312\\lib\\site-packages (from wandb[keras]) (69.5.1)\n",
            "Requirement already satisfied: colorama in c:\\users\\priya\\appdata\\local\\programs\\python\\python312\\lib\\site-packages (from click!=8.0.0,>=7.1->wandb[keras]) (0.4.6)\n",
            "Requirement already satisfied: six>=1.4.0 in c:\\users\\priya\\appdata\\local\\programs\\python\\python312\\lib\\site-packages (from docker-pycreds>=0.4.0->wandb[keras]) (1.16.0)\n",
            "Requirement already satisfied: gitdb<5,>=4.0.1 in c:\\users\\priya\\appdata\\local\\programs\\python\\python312\\lib\\site-packages (from gitpython!=3.1.29,>=1.0.0->wandb[keras]) (4.0.11)\n",
            "Requirement already satisfied: charset-normalizer<4,>=2 in c:\\users\\priya\\appdata\\local\\programs\\python\\python312\\lib\\site-packages (from requests<3,>=2.0.0->wandb[keras]) (3.3.2)\n",
            "Requirement already satisfied: idna<4,>=2.5 in c:\\users\\priya\\appdata\\local\\programs\\python\\python312\\lib\\site-packages (from requests<3,>=2.0.0->wandb[keras]) (3.6)\n",
            "Requirement already satisfied: urllib3<3,>=1.21.1 in c:\\users\\priya\\appdata\\local\\programs\\python\\python312\\lib\\site-packages (from requests<3,>=2.0.0->wandb[keras]) (2.1.0)\n",
            "Requirement already satisfied: certifi>=2017.4.17 in c:\\users\\priya\\appdata\\local\\programs\\python\\python312\\lib\\site-packages (from requests<3,>=2.0.0->wandb[keras]) (2023.11.17)\n",
            "Requirement already satisfied: smmap<6,>=3.0.1 in c:\\users\\priya\\appdata\\local\\programs\\python\\python312\\lib\\site-packages (from gitdb<5,>=4.0.1->gitpython!=3.1.29,>=1.0.0->wandb[keras]) (5.0.1)\n",
            "Using cached docker_pycreds-0.4.0-py2.py3-none-any.whl (9.0 kB)\n",
            "Using cached sentry_sdk-2.10.0-py2.py3-none-any.whl (302 kB)\n",
            "Downloading setproctitle-1.3.3-cp312-cp312-win_amd64.whl (11 kB)\n",
            "Downloading wandb-0.17.5-py3-none-win_amd64.whl (6.7 MB)\n",
            "   ---------------------------------------- 0.0/6.7 MB ? eta -:--:--\n",
            "   ---------------------------------------- 0.0/6.7 MB ? eta -:--:--\n",
            "   ---------------------------------------- 0.0/6.7 MB 325.1 kB/s eta 0:00:21\n",
            "   ---------------------------------------- 0.1/6.7 MB 469.7 kB/s eta 0:00:15\n",
            "   ---------------------------------------- 0.1/6.7 MB 657.6 kB/s eta 0:00:11\n",
            "    --------------------------------------- 0.2/6.7 MB 706.2 kB/s eta 0:00:10\n",
            "   - -------------------------------------- 0.2/6.7 MB 962.7 kB/s eta 0:00:07\n",
            "   - -------------------------------------- 0.3/6.7 MB 1.0 MB/s eta 0:00:07\n",
            "   -- ------------------------------------- 0.4/6.7 MB 1.2 MB/s eta 0:00:06\n",
            "   -- ------------------------------------- 0.5/6.7 MB 1.3 MB/s eta 0:00:05\n",
            "   --- ------------------------------------ 0.6/6.7 MB 1.4 MB/s eta 0:00:05\n",
            "   --- ------------------------------------ 0.6/6.7 MB 1.5 MB/s eta 0:00:05\n",
            "   ---- ----------------------------------- 0.8/6.7 MB 1.6 MB/s eta 0:00:04\n",
            "   ----- ---------------------------------- 0.9/6.7 MB 1.5 MB/s eta 0:00:04\n",
            "   ------ --------------------------------- 1.0/6.7 MB 1.6 MB/s eta 0:00:04\n",
            "   ------ --------------------------------- 1.1/6.7 MB 1.7 MB/s eta 0:00:04\n",
            "   ------- -------------------------------- 1.2/6.7 MB 1.8 MB/s eta 0:00:04\n",
            "   ------- -------------------------------- 1.3/6.7 MB 1.8 MB/s eta 0:00:04\n",
            "   -------- ------------------------------- 1.5/6.7 MB 1.9 MB/s eta 0:00:03\n",
            "   -------- ------------------------------- 1.5/6.7 MB 1.9 MB/s eta 0:00:03\n",
            "   --------- ------------------------------ 1.6/6.7 MB 1.9 MB/s eta 0:00:03\n",
            "   ---------- ----------------------------- 1.7/6.7 MB 1.8 MB/s eta 0:00:03\n",
            "   ----------- ---------------------------- 1.9/6.7 MB 2.0 MB/s eta 0:00:03\n",
            "   ----------- ---------------------------- 2.0/6.7 MB 2.0 MB/s eta 0:00:03\n",
            "   ------------ --------------------------- 2.1/6.7 MB 2.0 MB/s eta 0:00:03\n",
            "   ------------ --------------------------- 2.2/6.7 MB 2.0 MB/s eta 0:00:03\n",
            "   ------------- -------------------------- 2.3/6.7 MB 2.0 MB/s eta 0:00:03\n",
            "   -------------- ------------------------- 2.4/6.7 MB 2.1 MB/s eta 0:00:03\n",
            "   -------------- ------------------------- 2.4/6.7 MB 2.1 MB/s eta 0:00:03\n",
            "   --------------- ------------------------ 2.5/6.7 MB 2.0 MB/s eta 0:00:03\n",
            "   --------------- ------------------------ 2.6/6.7 MB 2.0 MB/s eta 0:00:03\n",
            "   ---------------- ----------------------- 2.7/6.7 MB 2.0 MB/s eta 0:00:03\n",
            "   ----------------- ---------------------- 2.9/6.7 MB 2.1 MB/s eta 0:00:02\n",
            "   ------------------ --------------------- 3.1/6.7 MB 2.1 MB/s eta 0:00:02\n",
            "   ------------------- -------------------- 3.3/6.7 MB 2.2 MB/s eta 0:00:02\n",
            "   -------------------- ------------------- 3.5/6.7 MB 2.3 MB/s eta 0:00:02\n",
            "   --------------------- ------------------ 3.6/6.7 MB 2.3 MB/s eta 0:00:02\n",
            "   --------------------- ------------------ 3.7/6.7 MB 2.3 MB/s eta 0:00:02\n",
            "   ----------------------- ---------------- 3.9/6.7 MB 2.3 MB/s eta 0:00:02\n",
            "   ------------------------ --------------- 4.1/6.7 MB 2.4 MB/s eta 0:00:02\n",
            "   -------------------------- ------------- 4.4/6.7 MB 2.5 MB/s eta 0:00:01\n",
            "   --------------------------- ------------ 4.7/6.7 MB 2.6 MB/s eta 0:00:01\n",
            "   ----------------------------- ---------- 4.9/6.7 MB 2.6 MB/s eta 0:00:01\n",
            "   ------------------------------ --------- 5.1/6.7 MB 2.7 MB/s eta 0:00:01\n",
            "   ------------------------------ --------- 5.1/6.7 MB 2.6 MB/s eta 0:00:01\n",
            "   -------------------------------- ------- 5.4/6.7 MB 2.8 MB/s eta 0:00:01\n",
            "   --------------------------------- ------ 5.6/6.7 MB 2.7 MB/s eta 0:00:01\n",
            "   ---------------------------------- ----- 5.9/6.7 MB 2.8 MB/s eta 0:00:01\n",
            "   ------------------------------------- -- 6.2/6.7 MB 2.9 MB/s eta 0:00:01\n",
            "   ---------------------------------------  6.5/6.7 MB 3.0 MB/s eta 0:00:01\n",
            "   ---------------------------------------  6.7/6.7 MB 3.0 MB/s eta 0:00:01\n",
            "   ---------------------------------------- 6.7/6.7 MB 3.0 MB/s eta 0:00:00\n",
            "Installing collected packages: setproctitle, sentry-sdk, docker-pycreds, wandb\n",
            "Successfully installed docker-pycreds-0.4.0 sentry-sdk-2.10.0 setproctitle-1.3.3 wandb-0.17.5\n",
            "Note: you may need to restart the kernel to use updated packages.\n"
          ]
        },
        {
          "name": "stderr",
          "output_type": "stream",
          "text": [
            "WARNING: wandb 0.17.5 does not provide the extra 'keras'\n",
            "\n",
            "[notice] A new release of pip is available: 23.2.1 -> 24.1.2\n",
            "[notice] To update, run: python.exe -m pip install --upgrade pip\n"
          ]
        }
      ],
      "source": [
        "pip install wandb[keras]"
      ]
    },
    {
      "cell_type": "code",
      "execution_count": 2,
      "metadata": {
        "id": "CB7UOUAksBpa"
      },
      "outputs": [
        {
          "name": "stdout",
          "output_type": "stream",
          "text": [
            "Requirement already satisfied: wandb in c:\\users\\priya\\appdata\\local\\programs\\python\\python312\\lib\\site-packages (0.17.5)\n",
            "Requirement already satisfied: click!=8.0.0,>=7.1 in c:\\users\\priya\\appdata\\local\\programs\\python\\python312\\lib\\site-packages (from wandb) (8.1.7)\n",
            "Requirement already satisfied: docker-pycreds>=0.4.0 in c:\\users\\priya\\appdata\\local\\programs\\python\\python312\\lib\\site-packages (from wandb) (0.4.0)\n",
            "Requirement already satisfied: gitpython!=3.1.29,>=1.0.0 in c:\\users\\priya\\appdata\\local\\programs\\python\\python312\\lib\\site-packages (from wandb) (3.1.43)\n",
            "Requirement already satisfied: platformdirs in c:\\users\\priya\\appdata\\local\\programs\\python\\python312\\lib\\site-packages (from wandb) (4.1.0)\n",
            "Requirement already satisfied: protobuf!=4.21.0,<6,>=3.19.0 in c:\\users\\priya\\appdata\\local\\programs\\python\\python312\\lib\\site-packages (from wandb) (4.25.3)\n",
            "Requirement already satisfied: psutil>=5.0.0 in c:\\users\\priya\\appdata\\local\\programs\\python\\python312\\lib\\site-packages (from wandb) (5.9.7)\n",
            "Requirement already satisfied: pyyaml in c:\\users\\priya\\appdata\\local\\programs\\python\\python312\\lib\\site-packages (from wandb) (6.0.1)\n",
            "Requirement already satisfied: requests<3,>=2.0.0 in c:\\users\\priya\\appdata\\local\\programs\\python\\python312\\lib\\site-packages (from wandb) (2.31.0)\n",
            "Requirement already satisfied: sentry-sdk>=1.0.0 in c:\\users\\priya\\appdata\\local\\programs\\python\\python312\\lib\\site-packages (from wandb) (2.10.0)\n",
            "Requirement already satisfied: setproctitle in c:\\users\\priya\\appdata\\local\\programs\\python\\python312\\lib\\site-packages (from wandb) (1.3.3)\n",
            "Requirement already satisfied: setuptools in c:\\users\\priya\\appdata\\local\\programs\\python\\python312\\lib\\site-packages (from wandb) (69.5.1)\n",
            "Requirement already satisfied: colorama in c:\\users\\priya\\appdata\\local\\programs\\python\\python312\\lib\\site-packages (from click!=8.0.0,>=7.1->wandb) (0.4.6)\n",
            "Requirement already satisfied: six>=1.4.0 in c:\\users\\priya\\appdata\\local\\programs\\python\\python312\\lib\\site-packages (from docker-pycreds>=0.4.0->wandb) (1.16.0)\n",
            "Requirement already satisfied: gitdb<5,>=4.0.1 in c:\\users\\priya\\appdata\\local\\programs\\python\\python312\\lib\\site-packages (from gitpython!=3.1.29,>=1.0.0->wandb) (4.0.11)\n",
            "Requirement already satisfied: charset-normalizer<4,>=2 in c:\\users\\priya\\appdata\\local\\programs\\python\\python312\\lib\\site-packages (from requests<3,>=2.0.0->wandb) (3.3.2)\n",
            "Requirement already satisfied: idna<4,>=2.5 in c:\\users\\priya\\appdata\\local\\programs\\python\\python312\\lib\\site-packages (from requests<3,>=2.0.0->wandb) (3.6)\n",
            "Requirement already satisfied: urllib3<3,>=1.21.1 in c:\\users\\priya\\appdata\\local\\programs\\python\\python312\\lib\\site-packages (from requests<3,>=2.0.0->wandb) (2.1.0)\n",
            "Requirement already satisfied: certifi>=2017.4.17 in c:\\users\\priya\\appdata\\local\\programs\\python\\python312\\lib\\site-packages (from requests<3,>=2.0.0->wandb) (2023.11.17)\n",
            "Requirement already satisfied: smmap<6,>=3.0.1 in c:\\users\\priya\\appdata\\local\\programs\\python\\python312\\lib\\site-packages (from gitdb<5,>=4.0.1->gitpython!=3.1.29,>=1.0.0->wandb) (5.0.1)\n"
          ]
        },
        {
          "name": "stderr",
          "output_type": "stream",
          "text": [
            "\n",
            "[notice] A new release of pip is available: 23.2.1 -> 24.1.2\n",
            "[notice] To update, run: python.exe -m pip install --upgrade pip\n"
          ]
        }
      ],
      "source": [
        "!pip install wandb\n"
      ]
    },
    {
      "cell_type": "code",
      "execution_count": 3,
      "metadata": {
        "id": "F5YtpX3Pryqw"
      },
      "outputs": [],
      "source": [
        "from tensorflow.keras.utils import to_categorical\n",
        "from tensorflow.keras.datasets import fashion_mnist\n",
        "from tensorflow.keras.models import Sequential\n",
        "from tensorflow.keras.layers import Dense, Flatten\n",
        "import wandb\n",
        "from wandb.integration.keras import WandbCallback"
      ]
    },
    {
      "cell_type": "markdown",
      "metadata": {
        "id": "3VK1jGPdsH6A"
      },
      "source": [
        "# **Load Dataset**"
      ]
    },
    {
      "cell_type": "code",
      "execution_count": 4,
      "metadata": {
        "id": "9e1ES5jfsQLB"
      },
      "outputs": [
        {
          "name": "stdout",
          "output_type": "stream",
          "text": [
            "Downloading data from https://storage.googleapis.com/tensorflow/tf-keras-datasets/train-labels-idx1-ubyte.gz\n",
            "\u001b[1m29515/29515\u001b[0m \u001b[32m━━━━━━━━━━━━━━━━━━━━\u001b[0m\u001b[37m\u001b[0m \u001b[1m0s\u001b[0m 2us/step\n",
            "Downloading data from https://storage.googleapis.com/tensorflow/tf-keras-datasets/train-images-idx3-ubyte.gz\n",
            "\u001b[1m26421880/26421880\u001b[0m \u001b[32m━━━━━━━━━━━━━━━━━━━━\u001b[0m\u001b[37m\u001b[0m \u001b[1m5s\u001b[0m 0us/step\n",
            "Downloading data from https://storage.googleapis.com/tensorflow/tf-keras-datasets/t10k-labels-idx1-ubyte.gz\n",
            "\u001b[1m5148/5148\u001b[0m \u001b[32m━━━━━━━━━━━━━━━━━━━━\u001b[0m\u001b[37m\u001b[0m \u001b[1m0s\u001b[0m 3us/step\n",
            "Downloading data from https://storage.googleapis.com/tensorflow/tf-keras-datasets/t10k-images-idx3-ubyte.gz\n",
            "\u001b[1m4422102/4422102\u001b[0m \u001b[32m━━━━━━━━━━━━━━━━━━━━\u001b[0m\u001b[37m\u001b[0m \u001b[1m1s\u001b[0m 0us/step\n"
          ]
        }
      ],
      "source": [
        "# load data\n",
        "(X_train, y_train), (X_test, y_test) = fashion_mnist.load_data()\n",
        "img_width = X_train.shape[1]\n",
        "img_height = X_train.shape[2]"
      ]
    },
    {
      "cell_type": "markdown",
      "metadata": {
        "id": "QBI8XJOcsh2E"
      },
      "source": [
        "# **Hot encoding**"
      ]
    },
    {
      "cell_type": "code",
      "execution_count": 5,
      "metadata": {
        "id": "KCfBuwUdsp5J"
      },
      "outputs": [],
      "source": [
        "# one hot encode outputs\n",
        "y_train = to_categorical(y_train)\n",
        "y_test = to_categorical(y_test)\n",
        "labels = [\"T-shirt/top\", \"Trouser\", \"Pullover\", \"Dress\",\n",
        "          \"Coat\", \"Sandal\", \"Shirt\", \"Sneaker\", \"Bag\", \"Ankle boot\"]\n"
      ]
    },
    {
      "cell_type": "code",
      "execution_count": 6,
      "metadata": {
        "id": "gctbDDzcs2Qo"
      },
      "outputs": [],
      "source": [
        "num_classes = y_train.shape[1]"
      ]
    },
    {
      "cell_type": "markdown",
      "metadata": {
        "id": "ODai5bROso_g"
      },
      "source": [
        "# **Create model**"
      ]
    },
    {
      "cell_type": "code",
      "execution_count": 7,
      "metadata": {
        "id": "ePhA_hcttEZC"
      },
      "outputs": [
        {
          "name": "stderr",
          "output_type": "stream",
          "text": [
            "c:\\Users\\priya\\AppData\\Local\\Programs\\Python\\Python312\\Lib\\site-packages\\keras\\src\\layers\\reshaping\\flatten.py:37: UserWarning: Do not pass an `input_shape`/`input_dim` argument to a layer. When using Sequential models, prefer using an `Input(shape)` object as the first layer in the model instead.\n",
            "  super().__init__(**kwargs)\n"
          ]
        }
      ],
      "source": [
        "# create model\n",
        "model = Sequential()\n",
        "model.add(Flatten(input_shape=(img_width, img_height)))\n",
        "model.add(Dense(num_classes))\n",
        "model.compile(loss='categorical_crossentropy', optimizer='adam',\n",
        "              metrics=['accuracy'])"
      ]
    },
    {
      "cell_type": "code",
      "execution_count": null,
      "metadata": {
        "id": "7t5ZkviLtKE7"
      },
      "outputs": [],
      "source": []
    },
    {
      "cell_type": "markdown",
      "metadata": {
        "id": "I5NPht3vtLI4"
      },
      "source": [
        "# **Fit the model**"
      ]
    },
    {
      "cell_type": "code",
      "execution_count": 8,
      "metadata": {
        "id": "egRzmSM-wB2C"
      },
      "outputs": [
        {
          "name": "stdout",
          "output_type": "stream",
          "text": [
            "Epoch 1/10\n",
            "\u001b[1m1875/1875\u001b[0m \u001b[32m━━━━━━━━━━━━━━━━━━━━\u001b[0m\u001b[37m\u001b[0m \u001b[1m4s\u001b[0m 2ms/step - accuracy: 0.1607 - loss: 10.0375 - val_accuracy: 0.2015 - val_loss: 9.5018\n",
            "Epoch 2/10\n",
            "\u001b[1m1875/1875\u001b[0m \u001b[32m━━━━━━━━━━━━━━━━━━━━\u001b[0m\u001b[37m\u001b[0m \u001b[1m3s\u001b[0m 2ms/step - accuracy: 0.2084 - loss: 9.6919 - val_accuracy: 0.2298 - val_loss: 10.1400\n",
            "Epoch 3/10\n",
            "\u001b[1m1875/1875\u001b[0m \u001b[32m━━━━━━━━━━━━━━━━━━━━\u001b[0m\u001b[37m\u001b[0m \u001b[1m3s\u001b[0m 1ms/step - accuracy: 0.2243 - loss: 9.8486 - val_accuracy: 0.2457 - val_loss: 10.0369\n",
            "Epoch 4/10\n",
            "\u001b[1m1875/1875\u001b[0m \u001b[32m━━━━━━━━━━━━━━━━━━━━\u001b[0m\u001b[37m\u001b[0m \u001b[1m3s\u001b[0m 2ms/step - accuracy: 0.2229 - loss: 9.3396 - val_accuracy: 0.2026 - val_loss: 11.7775\n",
            "Epoch 5/10\n",
            "\u001b[1m1875/1875\u001b[0m \u001b[32m━━━━━━━━━━━━━━━━━━━━\u001b[0m\u001b[37m\u001b[0m \u001b[1m3s\u001b[0m 2ms/step - accuracy: 0.2215 - loss: 10.8216 - val_accuracy: 0.2085 - val_loss: 9.6983\n",
            "Epoch 6/10\n",
            "\u001b[1m1875/1875\u001b[0m \u001b[32m━━━━━━━━━━━━━━━━━━━━\u001b[0m\u001b[37m\u001b[0m \u001b[1m3s\u001b[0m 1ms/step - accuracy: 0.2392 - loss: 9.9875 - val_accuracy: 0.2290 - val_loss: 11.7711\n",
            "Epoch 7/10\n",
            "\u001b[1m1875/1875\u001b[0m \u001b[32m━━━━━━━━━━━━━━━━━━━━\u001b[0m\u001b[37m\u001b[0m \u001b[1m3s\u001b[0m 1ms/step - accuracy: 0.2349 - loss: 11.7585 - val_accuracy: 0.2290 - val_loss: 11.7711\n",
            "Epoch 8/10\n",
            "\u001b[1m1875/1875\u001b[0m \u001b[32m━━━━━━━━━━━━━━━━━━━━\u001b[0m\u001b[37m\u001b[0m \u001b[1m3s\u001b[0m 2ms/step - accuracy: 0.2316 - loss: 11.7299 - val_accuracy: 0.2290 - val_loss: 11.7711\n",
            "Epoch 9/10\n",
            "\u001b[1m1875/1875\u001b[0m \u001b[32m━━━━━━━━━━━━━━━━━━━━\u001b[0m\u001b[37m\u001b[0m \u001b[1m4s\u001b[0m 2ms/step - accuracy: 0.2341 - loss: 11.7226 - val_accuracy: 0.2290 - val_loss: 11.7711\n",
            "Epoch 10/10\n",
            "\u001b[1m1875/1875\u001b[0m \u001b[32m━━━━━━━━━━━━━━━━━━━━\u001b[0m\u001b[37m\u001b[0m \u001b[1m3s\u001b[0m 2ms/step - accuracy: 0.2361 - loss: 11.7221 - val_accuracy: 0.2290 - val_loss: 11.7711\n"
          ]
        },
        {
          "data": {
            "text/plain": [
              "<keras.src.callbacks.history.History at 0x271664163f0>"
            ]
          },
          "execution_count": 8,
          "metadata": {},
          "output_type": "execute_result"
        }
      ],
      "source": [
        "model.fit(X_train, y_train, epochs=10, validation_data=(X_test, y_test))\n"
      ]
    },
    {
      "cell_type": "markdown",
      "metadata": {
        "id": "WDHsJwSK4UKk"
      },
      "source": [
        "# **Improve Accuracy**"
      ]
    },
    {
      "cell_type": "markdown",
      "metadata": {
        "id": "nx68sNSo4bKM"
      },
      "source": [
        "## **import libraries**"
      ]
    },
    {
      "cell_type": "code",
      "execution_count": 9,
      "metadata": {
        "colab": {
          "base_uri": "https://localhost:8080/"
        },
        "id": "A8J7xasf5HQV",
        "outputId": "9e336796-fa07-4100-fbef-934f592af9a1"
      },
      "outputs": [
        {
          "name": "stdout",
          "output_type": "stream",
          "text": [
            "Requirement already satisfied: wandb in c:\\users\\priya\\appdata\\local\\programs\\python\\python312\\lib\\site-packages (0.17.5)\n",
            "Requirement already satisfied: click!=8.0.0,>=7.1 in c:\\users\\priya\\appdata\\local\\programs\\python\\python312\\lib\\site-packages (from wandb) (8.1.7)\n",
            "Requirement already satisfied: docker-pycreds>=0.4.0 in c:\\users\\priya\\appdata\\local\\programs\\python\\python312\\lib\\site-packages (from wandb) (0.4.0)\n",
            "Requirement already satisfied: gitpython!=3.1.29,>=1.0.0 in c:\\users\\priya\\appdata\\local\\programs\\python\\python312\\lib\\site-packages (from wandb) (3.1.43)\n",
            "Requirement already satisfied: platformdirs in c:\\users\\priya\\appdata\\local\\programs\\python\\python312\\lib\\site-packages (from wandb) (4.1.0)\n",
            "Requirement already satisfied: protobuf!=4.21.0,<6,>=3.19.0 in c:\\users\\priya\\appdata\\local\\programs\\python\\python312\\lib\\site-packages (from wandb) (4.25.3)\n",
            "Requirement already satisfied: psutil>=5.0.0 in c:\\users\\priya\\appdata\\local\\programs\\python\\python312\\lib\\site-packages (from wandb) (5.9.7)\n",
            "Requirement already satisfied: pyyaml in c:\\users\\priya\\appdata\\local\\programs\\python\\python312\\lib\\site-packages (from wandb) (6.0.1)\n",
            "Requirement already satisfied: requests<3,>=2.0.0 in c:\\users\\priya\\appdata\\local\\programs\\python\\python312\\lib\\site-packages (from wandb) (2.31.0)\n",
            "Requirement already satisfied: sentry-sdk>=1.0.0 in c:\\users\\priya\\appdata\\local\\programs\\python\\python312\\lib\\site-packages (from wandb) (2.10.0)\n",
            "Requirement already satisfied: setproctitle in c:\\users\\priya\\appdata\\local\\programs\\python\\python312\\lib\\site-packages (from wandb) (1.3.3)\n",
            "Requirement already satisfied: setuptools in c:\\users\\priya\\appdata\\local\\programs\\python\\python312\\lib\\site-packages (from wandb) (69.5.1)\n",
            "Requirement already satisfied: colorama in c:\\users\\priya\\appdata\\local\\programs\\python\\python312\\lib\\site-packages (from click!=8.0.0,>=7.1->wandb) (0.4.6)\n",
            "Requirement already satisfied: six>=1.4.0 in c:\\users\\priya\\appdata\\local\\programs\\python\\python312\\lib\\site-packages (from docker-pycreds>=0.4.0->wandb) (1.16.0)\n",
            "Requirement already satisfied: gitdb<5,>=4.0.1 in c:\\users\\priya\\appdata\\local\\programs\\python\\python312\\lib\\site-packages (from gitpython!=3.1.29,>=1.0.0->wandb) (4.0.11)\n",
            "Requirement already satisfied: charset-normalizer<4,>=2 in c:\\users\\priya\\appdata\\local\\programs\\python\\python312\\lib\\site-packages (from requests<3,>=2.0.0->wandb) (3.3.2)\n",
            "Requirement already satisfied: idna<4,>=2.5 in c:\\users\\priya\\appdata\\local\\programs\\python\\python312\\lib\\site-packages (from requests<3,>=2.0.0->wandb) (3.6)\n",
            "Requirement already satisfied: urllib3<3,>=1.21.1 in c:\\users\\priya\\appdata\\local\\programs\\python\\python312\\lib\\site-packages (from requests<3,>=2.0.0->wandb) (2.1.0)\n",
            "Requirement already satisfied: certifi>=2017.4.17 in c:\\users\\priya\\appdata\\local\\programs\\python\\python312\\lib\\site-packages (from requests<3,>=2.0.0->wandb) (2023.11.17)\n",
            "Requirement already satisfied: smmap<6,>=3.0.1 in c:\\users\\priya\\appdata\\local\\programs\\python\\python312\\lib\\site-packages (from gitdb<5,>=4.0.1->gitpython!=3.1.29,>=1.0.0->wandb) (5.0.1)\n"
          ]
        },
        {
          "name": "stderr",
          "output_type": "stream",
          "text": [
            "\n",
            "[notice] A new release of pip is available: 23.2.1 -> 24.1.2\n",
            "[notice] To update, run: python.exe -m pip install --upgrade pip\n"
          ]
        }
      ],
      "source": [
        "!pip install wandb"
      ]
    },
    {
      "cell_type": "code",
      "execution_count": 10,
      "metadata": {
        "id": "69tIHILD49W1"
      },
      "outputs": [],
      "source": [
        "from tensorflow.keras.utils import to_categorical\n",
        "from tensorflow.keras.datasets import fashion_mnist\n",
        "from tensorflow.keras.models import Sequential\n",
        "from tensorflow.keras.layers import Dense, Flatten\n",
        "import wandb"
      ]
    },
    {
      "cell_type": "markdown",
      "metadata": {
        "id": "05SuCJWj5h9F"
      },
      "source": [
        "## **Load Data**"
      ]
    },
    {
      "cell_type": "code",
      "execution_count": 11,
      "metadata": {
        "colab": {
          "base_uri": "https://localhost:8080/"
        },
        "id": "Jytxfw-L5jRG",
        "outputId": "45374dda-4c1a-4e48-e564-68c2a71ab7d1"
      },
      "outputs": [],
      "source": [
        "# load data\n",
        "(X_train, y_train), (X_test, y_test) = fashion_mnist.load_data()\n",
        "img_width = X_train.shape[1]\n",
        "img_height = X_train.shape[2]"
      ]
    },
    {
      "cell_type": "markdown",
      "metadata": {
        "id": "cIVXpWdh52TE"
      },
      "source": [
        "## **One hot encode outputs**"
      ]
    },
    {
      "cell_type": "code",
      "execution_count": 12,
      "metadata": {
        "id": "4xUxF5C75_k_"
      },
      "outputs": [],
      "source": [
        "y_train = to_categorical(y_train)\n",
        "y_test = to_categorical(y_test)\n",
        "labels = [\"T-shirt/top\", \"Trouser\", \"Pullover\", \"Dress\",\n",
        "          \"Coat\", \"Sandal\", \"Shirt\", \"Sneaker\", \"Bag\", \"Ankle boot\"]"
      ]
    },
    {
      "cell_type": "code",
      "execution_count": 13,
      "metadata": {
        "id": "MqgDtwyM6EbV"
      },
      "outputs": [],
      "source": [
        "X_train = X_train / 255.\n",
        "X_test = X_test / 255."
      ]
    },
    {
      "cell_type": "code",
      "execution_count": 14,
      "metadata": {
        "id": "SmnTYC1g6H0u"
      },
      "outputs": [],
      "source": [
        "num_classes = y_train.shape[1]"
      ]
    },
    {
      "cell_type": "markdown",
      "metadata": {
        "id": "hDEoCJzM6O8M"
      },
      "source": [
        "## **Create model**"
      ]
    },
    {
      "cell_type": "code",
      "execution_count": 15,
      "metadata": {
        "id": "B4x2HvGu6MD8"
      },
      "outputs": [],
      "source": [
        "# create model\n",
        "model = Sequential()\n",
        "model.add(Flatten(input_shape=(img_width, img_height)))\n",
        "model.add(Dense(num_classes, activation=\"softmax\"))\n",
        "model.compile(loss='categorical_crossentropy', optimizer='adam',\n",
        "              metrics=['accuracy'])"
      ]
    },
    {
      "cell_type": "markdown",
      "metadata": {
        "id": "8-bVfBy46eF8"
      },
      "source": [
        "## **Fit the model**"
      ]
    },
    {
      "cell_type": "code",
      "execution_count": 16,
      "metadata": {
        "colab": {
          "base_uri": "https://localhost:8080/"
        },
        "id": "3sDzCFf06obG",
        "outputId": "04bb2441-b547-43a3-8971-c84ff4be3ae6"
      },
      "outputs": [
        {
          "name": "stdout",
          "output_type": "stream",
          "text": [
            "Epoch 1/10\n",
            "\u001b[1m1875/1875\u001b[0m \u001b[32m━━━━━━━━━━━━━━━━━━━━\u001b[0m\u001b[37m\u001b[0m \u001b[1m3s\u001b[0m 1ms/step - accuracy: 0.7430 - loss: 0.7667 - val_accuracy: 0.8286 - val_loss: 0.5011\n",
            "Epoch 2/10\n",
            "\u001b[1m1875/1875\u001b[0m \u001b[32m━━━━━━━━━━━━━━━━━━━━\u001b[0m\u001b[37m\u001b[0m \u001b[1m2s\u001b[0m 1ms/step - accuracy: 0.8414 - loss: 0.4667 - val_accuracy: 0.8342 - val_loss: 0.4762\n",
            "Epoch 3/10\n",
            "\u001b[1m1875/1875\u001b[0m \u001b[32m━━━━━━━━━━━━━━━━━━━━\u001b[0m\u001b[37m\u001b[0m \u001b[1m3s\u001b[0m 1ms/step - accuracy: 0.8467 - loss: 0.4406 - val_accuracy: 0.8395 - val_loss: 0.4627\n",
            "Epoch 4/10\n",
            "\u001b[1m1875/1875\u001b[0m \u001b[32m━━━━━━━━━━━━━━━━━━━━\u001b[0m\u001b[37m\u001b[0m \u001b[1m3s\u001b[0m 2ms/step - accuracy: 0.8564 - loss: 0.4180 - val_accuracy: 0.8374 - val_loss: 0.4637\n",
            "Epoch 5/10\n",
            "\u001b[1m1875/1875\u001b[0m \u001b[32m━━━━━━━━━━━━━━━━━━━━\u001b[0m\u001b[37m\u001b[0m \u001b[1m4s\u001b[0m 2ms/step - accuracy: 0.8559 - loss: 0.4208 - val_accuracy: 0.8372 - val_loss: 0.4729\n",
            "Epoch 6/10\n",
            "\u001b[1m1875/1875\u001b[0m \u001b[32m━━━━━━━━━━━━━━━━━━━━\u001b[0m\u001b[37m\u001b[0m \u001b[1m3s\u001b[0m 2ms/step - accuracy: 0.8599 - loss: 0.4067 - val_accuracy: 0.8404 - val_loss: 0.4586\n",
            "Epoch 7/10\n",
            "\u001b[1m1875/1875\u001b[0m \u001b[32m━━━━━━━━━━━━━━━━━━━━\u001b[0m\u001b[37m\u001b[0m \u001b[1m4s\u001b[0m 2ms/step - accuracy: 0.8613 - loss: 0.4001 - val_accuracy: 0.8395 - val_loss: 0.4591\n",
            "Epoch 8/10\n",
            "\u001b[1m1875/1875\u001b[0m \u001b[32m━━━━━━━━━━━━━━━━━━━━\u001b[0m\u001b[37m\u001b[0m \u001b[1m4s\u001b[0m 2ms/step - accuracy: 0.8605 - loss: 0.3996 - val_accuracy: 0.8433 - val_loss: 0.4543\n",
            "Epoch 9/10\n",
            "\u001b[1m1875/1875\u001b[0m \u001b[32m━━━━━━━━━━━━━━━━━━━━\u001b[0m\u001b[37m\u001b[0m \u001b[1m4s\u001b[0m 2ms/step - accuracy: 0.8649 - loss: 0.3942 - val_accuracy: 0.8424 - val_loss: 0.4544\n",
            "Epoch 10/10\n",
            "\u001b[1m1875/1875\u001b[0m \u001b[32m━━━━━━━━━━━━━━━━━━━━\u001b[0m\u001b[37m\u001b[0m \u001b[1m4s\u001b[0m 2ms/step - accuracy: 0.8612 - loss: 0.3943 - val_accuracy: 0.8447 - val_loss: 0.4447\n"
          ]
        },
        {
          "data": {
            "text/plain": [
              "<keras.src.callbacks.history.History at 0x271664dcc20>"
            ]
          },
          "execution_count": 16,
          "metadata": {},
          "output_type": "execute_result"
        }
      ],
      "source": [
        "model.fit(X_train, y_train, epochs=10, validation_data=(X_test, y_test))"
      ]
    }
  ],
  "metadata": {
    "colab": {
      "authorship_tag": "ABX9TyMO6oiaia/UwQAAJFFCeITX",
      "include_colab_link": true,
      "provenance": [],
      "toc_visible": true
    },
    "kernelspec": {
      "display_name": "Python 3",
      "language": "python",
      "name": "python3"
    },
    "language_info": {
      "codemirror_mode": {
        "name": "ipython",
        "version": 3
      },
      "file_extension": ".py",
      "mimetype": "text/x-python",
      "name": "python",
      "nbconvert_exporter": "python",
      "pygments_lexer": "ipython3",
      "version": "3.12.1"
    }
  },
  "nbformat": 4,
  "nbformat_minor": 0
}
